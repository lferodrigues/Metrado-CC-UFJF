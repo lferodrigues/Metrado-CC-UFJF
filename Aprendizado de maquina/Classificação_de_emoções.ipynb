{
  "nbformat": 4,
  "nbformat_minor": 0,
  "metadata": {
    "colab": {
      "provenance": [],
      "include_colab_link": true
    },
    "kernelspec": {
      "name": "python3",
      "display_name": "Python 3"
    },
    "accelerator": "GPU"
  },
  "cells": [
    {
      "cell_type": "markdown",
      "metadata": {
        "id": "view-in-github",
        "colab_type": "text"
      },
      "source": [
        "<a href=\"https://colab.research.google.com/github/lferodrigues/Metrado-CC-UFJF/blob/main/Classifica%C3%A7%C3%A3o_de_emo%C3%A7%C3%B5es.ipynb\" target=\"_parent\"><img src=\"https://colab.research.google.com/assets/colab-badge.svg\" alt=\"Open In Colab\"/></a>"
      ]
    },
    {
      "cell_type": "markdown",
      "metadata": {
        "id": "-08Dm6Y21hh3"
      },
      "source": [
        "# Classificação de emoções"
      ]
    },
    {
      "cell_type": "markdown",
      "metadata": {
        "id": "zrgRctvh29jp"
      },
      "source": [
        "## Importação das bibliotecas"
      ]
    },
    {
      "cell_type": "code",
      "metadata": {
        "id": "4y-991PPIVMR"
      },
      "source": [
        "import cv2\n",
        "import numpy as np\n",
        "import matplotlib.pyplot as plt\n",
        "import seaborn as sns\n",
        "from google.colab.patches import cv2_imshow\n",
        "import zipfile\n",
        "import tensorflow as tf\n",
        "from tensorflow.keras.preprocessing.image import ImageDataGenerator\n",
        "from tensorflow.keras.models import Sequential\n",
        "from tensorflow.keras.layers import Dense, Dropout, Conv2D, MaxPooling2D, Flatten, BatchNormalization"
      ],
      "execution_count": 1,
      "outputs": []
    },
    {
      "cell_type": "markdown",
      "metadata": {
        "id": "u0jiBegz3ETL"
      },
      "source": [
        "## Carregamento das imagens"
      ]
    },
    {
      "cell_type": "code",
      "metadata": {
        "id": "R7mFZTxLI0hO",
        "colab": {
          "base_uri": "https://localhost:8080/"
        },
        "outputId": "41d4c778-65ee-425f-a238-5d2f7105d655"
      },
      "source": [
        "from google.colab import drive\n",
        "drive.mount('/content/drive')"
      ],
      "execution_count": 2,
      "outputs": [
        {
          "output_type": "stream",
          "name": "stdout",
          "text": [
            "Mounted at /content/drive\n"
          ]
        }
      ]
    },
    {
      "cell_type": "code",
      "metadata": {
        "id": "VtJ8sAyyJaVe"
      },
      "source": [
        "path = '/content/drive/MyDrive/Cursos - recursos/Visão Computacional Guia Completo/Datasets/fer2013_2_classes.zip'\n",
        "zip_object = zipfile.ZipFile(file=path, mode='r')\n",
        "zip_object.extractall('./')\n",
        "zip_object.close()"
      ],
      "execution_count": null,
      "outputs": []
    },
    {
      "cell_type": "code",
      "metadata": {
        "id": "iRc7t0lRJy5P",
        "colab": {
          "base_uri": "https://localhost:8080/",
          "height": 65
        },
        "outputId": "f530c187-b718-481e-ce7f-2a820f87996c"
      },
      "source": [
        "tf.keras.preprocessing.image.load_img('/content/fer2013_2_classes/train/Angry/1003.jpg')"
      ],
      "execution_count": null,
      "outputs": [
        {
          "output_type": "execute_result",
          "data": {
            "image/png": "[encoded data removed]",
            "text/plain": [
              "<PIL.Image.Image image mode=RGB size=48x48 at 0x7F67753A0F90>"
            ]
          },
          "metadata": {},
          "execution_count": 4
        }
      ]
    },
    {
      "cell_type": "code",
      "metadata": {
        "id": "-3kIG15NKHSh",
        "colab": {
          "base_uri": "https://localhost:8080/",
          "height": 65
        },
        "outputId": "35db8cda-ce12-40f2-f0d6-559f698e55ac"
      },
      "source": [
        "imagem = tf.keras.preprocessing.image.load_img('/content/fer2013_2_classes/train/Happy/1.jpg')\n",
        "imagem"
      ],
      "execution_count": null,
      "outputs": [
        {
          "output_type": "execute_result",
          "data": {
            "image/png": "[encoded data removed]",
            "text/plain": [
              "<PIL.Image.Image image mode=RGB size=48x48 at 0x7F6766E17E50>"
            ]
          },
          "metadata": {},
          "execution_count": 5
        }
      ]
    },
    {
      "cell_type": "markdown",
      "metadata": {
        "id": "M3xS72MI6C8q"
      },
      "source": [
        "### Bases de treinamento e teste"
      ]
    },
    {
      "cell_type": "code",
      "metadata": {
        "id": "HpYm2s_fKa0d",
        "colab": {
          "base_uri": "https://localhost:8080/"
        },
        "outputId": "d1dd11ac-c027-481e-ac2a-b4f5a0e51528"
      },
      "source": [
        "gerador_treinamento = ImageDataGenerator(rescale=1./255,\n",
        "                                        rotation_range=7,\n",
        "                                        horizontal_flip=True,\n",
        "                                        zoom_range=0.2)\n",
        "dataset_treinamento = gerador_treinamento.flow_from_directory('/content/fer2013_2_classes/train',\n",
        "                                                        target_size = (48, 48),\n",
        "                                                        batch_size = 16,\n",
        "                                                        class_mode = 'categorical',\n",
        "                                                        shuffle = True)"
      ],
      "execution_count": null,
      "outputs": [
        {
          "output_type": "stream",
          "name": "stdout",
          "text": [
            "Found 11210 images belonging to 2 classes.\n"
          ]
        }
      ]
    },
    {
      "cell_type": "code",
      "metadata": {
        "id": "0ugMHSUnLxyG",
        "colab": {
          "base_uri": "https://localhost:8080/"
        },
        "outputId": "2444895f-7cb2-4e61-fa84-23fc3b42f0e6"
      },
      "source": [
        "dataset_treinamento.classes"
      ],
      "execution_count": null,
      "outputs": [
        {
          "output_type": "execute_result",
          "data": {
            "text/plain": [
              "array([0, 0, 0, ..., 1, 1, 1], dtype=int32)"
            ]
          },
          "metadata": {},
          "execution_count": 7
        }
      ]
    },
    {
      "cell_type": "code",
      "metadata": {
        "colab": {
          "base_uri": "https://localhost:8080/"
        },
        "id": "qJ8fGD-e8yQZ",
        "outputId": "b30ae62a-e74a-4060-cd4a-39e5b200de00"
      },
      "source": [
        "np.unique(dataset_treinamento.classes, return_counts=True)"
      ],
      "execution_count": null,
      "outputs": [
        {
          "output_type": "execute_result",
          "data": {
            "text/plain": [
              "(array([0, 1], dtype=int32), array([3995, 7215]))"
            ]
          },
          "metadata": {},
          "execution_count": 8
        }
      ]
    },
    {
      "cell_type": "code",
      "metadata": {
        "id": "HZA4CwFmL1eC",
        "colab": {
          "base_uri": "https://localhost:8080/"
        },
        "outputId": "043ff49d-fd5e-4334-cc43-eaeb9bd528ad"
      },
      "source": [
        "dataset_treinamento.class_indices"
      ],
      "execution_count": null,
      "outputs": [
        {
          "output_type": "execute_result",
          "data": {
            "text/plain": [
              "{'Angry': 0, 'Happy': 1}"
            ]
          },
          "metadata": {},
          "execution_count": 9
        }
      ]
    },
    {
      "cell_type": "code",
      "metadata": {
        "colab": {
          "base_uri": "https://localhost:8080/",
          "height": 265
        },
        "id": "eOuzdX6M85i_",
        "outputId": "f1112bfc-a914-4344-dd0f-c3b18f45ddb9"
      },
      "source": [
        "sns.countplot(x = dataset_treinamento.classes);"
      ],
      "execution_count": null,
      "outputs": [
        {
          "output_type": "display_data",
          "data": {
            "image/png": "[encoded data removed]",
            "text/plain": [
              "<Figure size 432x288 with 1 Axes>"
            ]
          },
          "metadata": {
            "needs_background": "light"
          }
        }
      ]
    },
    {
      "cell_type": "code",
      "metadata": {
        "id": "-jIsmMsML8as",
        "colab": {
          "base_uri": "https://localhost:8080/"
        },
        "outputId": "b9e658f7-d6f5-434a-9a28-57c5212da430"
      },
      "source": [
        "gerador_teste = ImageDataGenerator(rescale=1./255)\n",
        "dataset_teste = gerador_teste.flow_from_directory('/content/fer2013_2_classes/validation',\n",
        "                                                  target_size = (48, 48),\n",
        "                                                  batch_size = 1,\n",
        "                                                  class_mode = 'categorical',\n",
        "                                                  shuffle = False)"
      ],
      "execution_count": null,
      "outputs": [
        {
          "output_type": "stream",
          "name": "stdout",
          "text": [
            "Found 1370 images belonging to 2 classes.\n"
          ]
        }
      ]
    },
    {
      "cell_type": "markdown",
      "metadata": {
        "id": "PzkFHsdZhVhY"
      },
      "source": [
        "## Construção e treinamento da rede neural"
      ]
    },
    {
      "cell_type": "code",
      "metadata": {
        "id": "njJPD-_KhX7I",
        "colab": {
          "base_uri": "https://localhost:8080/"
        },
        "outputId": "221487e4-9d2d-409f-aa74-9adc1dbda922"
      },
      "source": [
        "num_detectors = 32\n",
        "num_classes = 2\n",
        "width, height = 48, 48\n",
        "epochs = 50\n",
        "\n",
        "network = Sequential()\n",
        "\n",
        "network.add(Conv2D(num_detectors, (3, 3), activation = 'relu', padding = 'same', input_shape = (width, height, 3)))\n",
        "network.add(BatchNormalization())\n",
        "network.add(Conv2D(num_detectors, (3, 3), activation = 'relu', padding = \"same\"))\n",
        "network.add(BatchNormalization())\n",
        "network.add(MaxPooling2D(pool_size=(2, 2)))\n",
        "network.add(Dropout(0.2))\n",
        "\n",
        "network.add(Conv2D(2*num_detectors, (3, 3), activation = 'relu', padding=\"same\"))\n",
        "network.add(BatchNormalization())\n",
        "network.add(Conv2D(2*num_detectors, (3, 3), activation = 'relu', padding=\"same\"))\n",
        "network.add(BatchNormalization())\n",
        "network.add(MaxPooling2D(pool_size=(2, 2)))\n",
        "network.add(Dropout(0.2))\n",
        "\n",
        "network.add(Conv2D(2*2*num_detectors, (3, 3), activation = 'relu', padding=\"same\"))\n",
        "network.add(BatchNormalization())\n",
        "network.add(Conv2D(2*2*num_detectors, (3, 3), activation = 'relu', padding=\"same\"))\n",
        "network.add(BatchNormalization())\n",
        "network.add(MaxPooling2D(pool_size=(2, 2)))\n",
        "network.add(Dropout(0.2))\n",
        "\n",
        "network.add(Conv2D(2*2*2*num_detectors, (3, 3), activation = 'relu', padding=\"same\"))\n",
        "network.add(BatchNormalization())\n",
        "network.add(Conv2D(2*2*2*num_detectors, (3, 3), activation = 'relu', padding=\"same\"))\n",
        "network.add(BatchNormalization())\n",
        "network.add(MaxPooling2D(pool_size=(2, 2)))\n",
        "network.add(Dropout(0.2))\n",
        "\n",
        "network.add(Flatten())\n",
        "network.add(Dense(2*num_detectors, activation = 'relu'))\n",
        "network.add(BatchNormalization())\n",
        "network.add(Dropout(0.2))\n",
        "\n",
        "network.add(Dense(2*num_detectors, activation = 'relu'))\n",
        "network.add(BatchNormalization())\n",
        "network.add(Dropout(0.2))\n",
        "\n",
        "network.add(Dense(num_classes, activation='softmax'))\n",
        "\n",
        "print(network.summary())"
      ],
      "execution_count": null,
      "outputs": [
        {
          "output_type": "stream",
          "name": "stdout",
          "text": [
            "Model: \"sequential\"\n",
            "_________________________________________________________________\n",
            "Layer (type)                 Output Shape              Param #   \n",
            "=================================================================\n",
            "conv2d (Conv2D)              (None, 48, 48, 32)        896       \n",
            "_________________________________________________________________\n",
            "batch_normalization (BatchNo (None, 48, 48, 32)        128       \n",
            "_________________________________________________________________\n",
            "conv2d_1 (Conv2D)            (None, 48, 48, 32)        9248      \n",
            "_________________________________________________________________\n",
            "batch_normalization_1 (Batch (None, 48, 48, 32)        128       \n",
            "_________________________________________________________________\n",
            "max_pooling2d (MaxPooling2D) (None, 24, 24, 32)        0         \n",
            "_________________________________________________________________\n",
            "dropout (Dropout)            (None, 24, 24, 32)        0         \n",
            "_________________________________________________________________\n",
            "conv2d_2 (Conv2D)            (None, 24, 24, 64)        18496     \n",
            "_________________________________________________________________\n",
            "batch_normalization_2 (Batch (None, 24, 24, 64)        256       \n",
            "_________________________________________________________________\n",
            "conv2d_3 (Conv2D)            (None, 24, 24, 64)        36928     \n",
            "_________________________________________________________________\n",
            "batch_normalization_3 (Batch (None, 24, 24, 64)        256       \n",
            "_________________________________________________________________\n",
            "max_pooling2d_1 (MaxPooling2 (None, 12, 12, 64)        0         \n",
            "_________________________________________________________________\n",
            "dropout_1 (Dropout)          (None, 12, 12, 64)        0         \n",
            "_________________________________________________________________\n",
            "conv2d_4 (Conv2D)            (None, 12, 12, 128)       73856     \n",
            "_________________________________________________________________\n",
            "batch_normalization_4 (Batch (None, 12, 12, 128)       512       \n",
            "_________________________________________________________________\n",
            "conv2d_5 (Conv2D)            (None, 12, 12, 128)       147584    \n",
            "_________________________________________________________________\n",
            "batch_normalization_5 (Batch (None, 12, 12, 128)       512       \n",
            "_________________________________________________________________\n",
            "max_pooling2d_2 (MaxPooling2 (None, 6, 6, 128)         0         \n",
            "_________________________________________________________________\n",
            "dropout_2 (Dropout)          (None, 6, 6, 128)         0         \n",
            "_________________________________________________________________\n",
            "conv2d_6 (Conv2D)            (None, 6, 6, 256)         295168    \n",
            "_________________________________________________________________\n",
            "batch_normalization_6 (Batch (None, 6, 6, 256)         1024      \n",
            "_________________________________________________________________\n",
            "conv2d_7 (Conv2D)            (None, 6, 6, 256)         590080    \n",
            "_________________________________________________________________\n",
            "batch_normalization_7 (Batch (None, 6, 6, 256)         1024      \n",
            "_________________________________________________________________\n",
            "max_pooling2d_3 (MaxPooling2 (None, 3, 3, 256)         0         \n",
            "_________________________________________________________________\n",
            "dropout_3 (Dropout)          (None, 3, 3, 256)         0         \n",
            "_________________________________________________________________\n",
            "flatten (Flatten)            (None, 2304)              0         \n",
            "_________________________________________________________________\n",
            "dense (Dense)                (None, 64)                147520    \n",
            "_________________________________________________________________\n",
            "batch_normalization_8 (Batch (None, 64)                256       \n",
            "_________________________________________________________________\n",
            "dropout_4 (Dropout)          (None, 64)                0         \n",
            "_________________________________________________________________\n",
            "dense_1 (Dense)              (None, 64)                4160      \n",
            "_________________________________________________________________\n",
            "batch_normalization_9 (Batch (None, 64)                256       \n",
            "_________________________________________________________________\n",
            "dropout_5 (Dropout)          (None, 64)                0         \n",
            "_________________________________________________________________\n",
            "dense_2 (Dense)              (None, 2)                 130       \n",
            "=================================================================\n",
            "Total params: 1,328,418\n",
            "Trainable params: 1,326,242\n",
            "Non-trainable params: 2,176\n",
            "_________________________________________________________________\n",
            "None\n"
          ]
        }
      ]
    },
    {
      "cell_type": "code",
      "metadata": {
        "id": "9FzDobrzkSXJ"
      },
      "source": [
        "network.compile(loss='categorical_crossentropy', optimizer='Adam', metrics=['accuracy'])"
      ],
      "execution_count": null,
      "outputs": []
    },
    {
      "cell_type": "code",
      "metadata": {
        "colab": {
          "base_uri": "https://localhost:8080/"
        },
        "id": "sNyHRvrrjEIf",
        "outputId": "06da5c48-8962-46e7-84ae-783f945080d9"
      },
      "source": [
        "network.fit(dataset_treinamento, epochs=epochs)"
      ],
      "execution_count": null,
      "outputs": [
        {
          "output_type": "stream",
          "name": "stdout",
          "text": [
            "Epoch 1/50\n",
            "701/701 [==============================] - 58s 35ms/step - loss: 0.7104 - accuracy: 0.6120\n",
            "Epoch 2/50\n",
            "701/701 [==============================] - 24s 35ms/step - loss: 0.5399 - accuracy: 0.7311\n",
            "Epoch 3/50\n",
            "701/701 [==============================] - 25s 35ms/step - loss: 0.4157 - accuracy: 0.8083\n",
            "Epoch 4/50\n",
            "701/701 [==============================] - 25s 35ms/step - loss: 0.3847 - accuracy: 0.8318\n",
            "Epoch 5/50\n",
            "701/701 [==============================] - 25s 35ms/step - loss: 0.3540 - accuracy: 0.8469\n",
            "Epoch 6/50\n",
            "701/701 [==============================] - 25s 36ms/step - loss: 0.3365 - accuracy: 0.8550\n",
            "Epoch 7/50\n",
            "701/701 [==============================] - 25s 36ms/step - loss: 0.3197 - accuracy: 0.8639\n",
            "Epoch 8/50\n",
            "701/701 [==============================] - 25s 36ms/step - loss: 0.3060 - accuracy: 0.8715\n",
            "Epoch 9/50\n",
            "701/701 [==============================] - 25s 35ms/step - loss: 0.3057 - accuracy: 0.8715\n",
            "Epoch 10/50\n",
            "701/701 [==============================] - 25s 36ms/step - loss: 0.2878 - accuracy: 0.8837\n",
            "Epoch 11/50\n",
            "701/701 [==============================] - 25s 36ms/step - loss: 0.2920 - accuracy: 0.8773\n",
            "Epoch 12/50\n",
            "701/701 [==============================] - 26s 36ms/step - loss: 0.2685 - accuracy: 0.8909\n",
            "Epoch 13/50\n",
            "701/701 [==============================] - 26s 37ms/step - loss: 0.2561 - accuracy: 0.8962\n",
            "Epoch 14/50\n",
            "701/701 [==============================] - 26s 37ms/step - loss: 0.2528 - accuracy: 0.8982\n",
            "Epoch 15/50\n",
            "701/701 [==============================] - 26s 37ms/step - loss: 0.2455 - accuracy: 0.9004\n",
            "Epoch 16/50\n",
            "701/701 [==============================] - 26s 37ms/step - loss: 0.2405 - accuracy: 0.9037\n",
            "Epoch 17/50\n",
            "701/701 [==============================] - 26s 37ms/step - loss: 0.2245 - accuracy: 0.9112\n",
            "Epoch 18/50\n",
            "701/701 [==============================] - 26s 37ms/step - loss: 0.2271 - accuracy: 0.9109\n",
            "Epoch 19/50\n",
            "701/701 [==============================] - 26s 37ms/step - loss: 0.2191 - accuracy: 0.9143\n",
            "Epoch 20/50\n",
            "701/701 [==============================] - 26s 37ms/step - loss: 0.2176 - accuracy: 0.9198\n",
            "Epoch 21/50\n",
            "701/701 [==============================] - 26s 37ms/step - loss: 0.2070 - accuracy: 0.9245\n",
            "Epoch 22/50\n",
            "701/701 [==============================] - 26s 36ms/step - loss: 0.1958 - accuracy: 0.9267\n",
            "Epoch 23/50\n",
            "701/701 [==============================] - 26s 37ms/step - loss: 0.1906 - accuracy: 0.9266\n",
            "Epoch 24/50\n",
            "701/701 [==============================] - 25s 36ms/step - loss: 0.1848 - accuracy: 0.9291\n",
            "Epoch 25/50\n",
            "701/701 [==============================] - 25s 36ms/step - loss: 0.1781 - accuracy: 0.9335\n",
            "Epoch 26/50\n",
            "701/701 [==============================] - 26s 37ms/step - loss: 0.1734 - accuracy: 0.9355\n",
            "Epoch 27/50\n",
            "701/701 [==============================] - 26s 36ms/step - loss: 0.1743 - accuracy: 0.9355\n",
            "Epoch 28/50\n",
            "701/701 [==============================] - 25s 36ms/step - loss: 0.1700 - accuracy: 0.9389\n",
            "Epoch 29/50\n",
            "701/701 [==============================] - 25s 36ms/step - loss: 0.1588 - accuracy: 0.9389\n",
            "Epoch 30/50\n",
            "701/701 [==============================] - 26s 36ms/step - loss: 0.1642 - accuracy: 0.9391\n",
            "Epoch 31/50\n",
            "701/701 [==============================] - 25s 36ms/step - loss: 0.1553 - accuracy: 0.9383\n",
            "Epoch 32/50\n",
            "701/701 [==============================] - 26s 36ms/step - loss: 0.1478 - accuracy: 0.9441\n",
            "Epoch 33/50\n",
            "701/701 [==============================] - 25s 36ms/step - loss: 0.1477 - accuracy: 0.9417\n",
            "Epoch 34/50\n",
            "701/701 [==============================] - 25s 36ms/step - loss: 0.1444 - accuracy: 0.9469\n",
            "Epoch 35/50\n",
            "701/701 [==============================] - 25s 36ms/step - loss: 0.1756 - accuracy: 0.9344\n",
            "Epoch 36/50\n",
            "701/701 [==============================] - 25s 36ms/step - loss: 0.1457 - accuracy: 0.9445\n",
            "Epoch 37/50\n",
            "701/701 [==============================] - 25s 36ms/step - loss: 0.1348 - accuracy: 0.9499\n",
            "Epoch 38/50\n",
            "701/701 [==============================] - 25s 36ms/step - loss: 0.1449 - accuracy: 0.9467\n",
            "Epoch 39/50\n",
            "701/701 [==============================] - 25s 36ms/step - loss: 0.1385 - accuracy: 0.9479\n",
            "Epoch 40/50\n",
            "701/701 [==============================] - 25s 36ms/step - loss: 0.1385 - accuracy: 0.9478\n",
            "Epoch 41/50\n",
            "701/701 [==============================] - 25s 36ms/step - loss: 0.1260 - accuracy: 0.9534\n",
            "Epoch 42/50\n",
            "701/701 [==============================] - 26s 36ms/step - loss: 0.1296 - accuracy: 0.9509\n",
            "Epoch 43/50\n",
            "701/701 [==============================] - 26s 37ms/step - loss: 0.1254 - accuracy: 0.9550\n",
            "Epoch 44/50\n",
            "701/701 [==============================] - 26s 36ms/step - loss: 0.1251 - accuracy: 0.9550\n",
            "Epoch 45/50\n",
            "701/701 [==============================] - 25s 36ms/step - loss: 0.1244 - accuracy: 0.9542\n",
            "Epoch 46/50\n",
            "701/701 [==============================] - 25s 36ms/step - loss: 0.1218 - accuracy: 0.9556\n",
            "Epoch 47/50\n",
            "701/701 [==============================] - 25s 36ms/step - loss: 0.1126 - accuracy: 0.9580\n",
            "Epoch 48/50\n",
            "701/701 [==============================] - 25s 36ms/step - loss: 0.1160 - accuracy: 0.9573\n",
            "Epoch 49/50\n",
            "701/701 [==============================] - 25s 36ms/step - loss: 0.1103 - accuracy: 0.9579\n",
            "Epoch 50/50\n",
            "701/701 [==============================] - 25s 36ms/step - loss: 0.1102 - accuracy: 0.9583\n"
          ]
        },
        {
          "output_type": "execute_result",
          "data": {
            "text/plain": [
              "<keras.callbacks.History at 0x7f41798ea750>"
            ]
          },
          "metadata": {},
          "execution_count": 17
        }
      ]
    },
    {
      "cell_type": "markdown",
      "metadata": {
        "id": "56jAfuOX6Mer"
      },
      "source": [
        "## Avaliação da rede neural"
      ]
    },
    {
      "cell_type": "code",
      "metadata": {
        "colab": {
          "base_uri": "https://localhost:8080/"
        },
        "id": "QWUAczjnNdMz",
        "outputId": "dec41afd-9e29-4242-ec43-d915d8944443"
      },
      "source": [
        "network.evaluate(dataset_teste)"
      ],
      "execution_count": null,
      "outputs": [
        {
          "output_type": "stream",
          "name": "stdout",
          "text": [
            "1370/1370 [==============================] - 10s 7ms/step - loss: 0.9531 - accuracy: 0.9241\n"
          ]
        },
        {
          "output_type": "execute_result",
          "data": {
            "text/plain": [
              "[0.9530779719352722, 0.9240875840187073]"
            ]
          },
          "metadata": {},
          "execution_count": 19
        }
      ]
    },
    {
      "cell_type": "code",
      "metadata": {
        "colab": {
          "base_uri": "https://localhost:8080/"
        },
        "id": "LhCYTLWd833-",
        "outputId": "6422af23-7139-4089-e1c9-b6882cd798ce"
      },
      "source": [
        "previsoes = network.predict(dataset_teste)\n",
        "previsoes"
      ],
      "execution_count": null,
      "outputs": [
        {
          "output_type": "execute_result",
          "data": {
            "text/plain": [
              "array([[9.9917138e-01, 8.2864356e-04],\n",
              "       [9.9999440e-01, 5.5774931e-06],\n",
              "       [9.9442166e-01, 5.5783088e-03],\n",
              "       ...,\n",
              "       [1.1267455e-02, 9.8873258e-01],\n",
              "       [1.9753634e-06, 9.9999797e-01],\n",
              "       [1.0855241e-09, 1.0000000e+00]], dtype=float32)"
            ]
          },
          "metadata": {},
          "execution_count": 20
        }
      ]
    },
    {
      "cell_type": "code",
      "metadata": {
        "colab": {
          "base_uri": "https://localhost:8080/"
        },
        "id": "HCPioxWB89ON",
        "outputId": "c24881de-b36e-411d-9be3-d67c8da4ae5f"
      },
      "source": [
        "previsoes = np.argmax(previsoes, axis = 1)\n",
        "previsoes"
      ],
      "execution_count": null,
      "outputs": [
        {
          "output_type": "execute_result",
          "data": {
            "text/plain": [
              "array([0, 0, 0, ..., 1, 1, 1])"
            ]
          },
          "metadata": {},
          "execution_count": 21
        }
      ]
    },
    {
      "cell_type": "code",
      "metadata": {
        "colab": {
          "base_uri": "https://localhost:8080/"
        },
        "id": "E5G91E-r8_px",
        "outputId": "50e02e25-e2fe-43df-837e-814d1cfa3d57"
      },
      "source": [
        "dataset_teste.classes"
      ],
      "execution_count": null,
      "outputs": [
        {
          "output_type": "execute_result",
          "data": {
            "text/plain": [
              "array([0, 0, 0, ..., 1, 1, 1], dtype=int32)"
            ]
          },
          "metadata": {},
          "execution_count": 22
        }
      ]
    },
    {
      "cell_type": "code",
      "metadata": {
        "colab": {
          "base_uri": "https://localhost:8080/"
        },
        "id": "7Fv-c29d9CQu",
        "outputId": "c5260750-c3b3-421c-b34a-c4fec8ed447d"
      },
      "source": [
        "from sklearn.metrics import accuracy_score\n",
        "accuracy_score(dataset_teste.classes, previsoes)"
      ],
      "execution_count": null,
      "outputs": [
        {
          "output_type": "execute_result",
          "data": {
            "text/plain": [
              "0.9240875912408759"
            ]
          },
          "metadata": {},
          "execution_count": 23
        }
      ]
    },
    {
      "cell_type": "code",
      "metadata": {
        "colab": {
          "base_uri": "https://localhost:8080/"
        },
        "id": "2aOkAkkH9ESw",
        "outputId": "b5cfa4d6-0d43-4698-fced-954e7bfedb22"
      },
      "source": [
        "dataset_teste.class_indices"
      ],
      "execution_count": null,
      "outputs": [
        {
          "output_type": "execute_result",
          "data": {
            "text/plain": [
              "{'Angry': 0, 'Happy': 1}"
            ]
          },
          "metadata": {},
          "execution_count": 24
        }
      ]
    },
    {
      "cell_type": "code",
      "metadata": {
        "colab": {
          "base_uri": "https://localhost:8080/"
        },
        "id": "ij7HKaLv9F3R",
        "outputId": "6e893093-00b7-4333-ab6b-c8a9ac3ab653"
      },
      "source": [
        "from sklearn.metrics import confusion_matrix\n",
        "cm = confusion_matrix(dataset_teste.classes, previsoes)\n",
        "cm"
      ],
      "execution_count": null,
      "outputs": [
        {
          "output_type": "execute_result",
          "data": {
            "text/plain": [
              "array([[466,  25],\n",
              "       [ 79, 800]])"
            ]
          },
          "metadata": {},
          "execution_count": 26
        }
      ]
    },
    {
      "cell_type": "code",
      "metadata": {
        "colab": {
          "base_uri": "https://localhost:8080/",
          "height": 269
        },
        "id": "svhPfE8Q9HzL",
        "outputId": "95af39d2-c103-4b30-9cba-44df97351a88"
      },
      "source": [
        "sns.heatmap(cm, annot=True);"
      ],
      "execution_count": null,
      "outputs": [
        {
          "output_type": "display_data",
          "data": {
            "image/png": "[encoded data removed]",
            "text/plain": [
              "<Figure size 432x288 with 2 Axes>"
            ]
          },
          "metadata": {
            "needs_background": "light"
          }
        }
      ]
    },
    {
      "cell_type": "code",
      "metadata": {
        "colab": {
          "base_uri": "https://localhost:8080/"
        },
        "id": "sAq7nwz69KMa",
        "outputId": "5652ac1a-a59c-40f4-f883-f970cdfe840f"
      },
      "source": [
        "from sklearn.metrics import classification_report\n",
        "print(classification_report(dataset_teste.classes, previsoes))"
      ],
      "execution_count": null,
      "outputs": [
        {
          "output_type": "stream",
          "name": "stdout",
          "text": [
            "              precision    recall  f1-score   support\n",
            "\n",
            "           0       0.86      0.95      0.90       491\n",
            "           1       0.97      0.91      0.94       879\n",
            "\n",
            "    accuracy                           0.92      1370\n",
            "   macro avg       0.91      0.93      0.92      1370\n",
            "weighted avg       0.93      0.92      0.92      1370\n",
            "\n"
          ]
        }
      ]
    }
  ]
}