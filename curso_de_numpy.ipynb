{
  "nbformat": 4,
  "nbformat_minor": 0,
  "metadata": {
    "colab": {
      "provenance": [],
      "authorship_tag": "ABX9TyM71OHrOqMpQCYci3z8tuF7",
      "include_colab_link": true
    },
    "kernelspec": {
      "name": "python3",
      "display_name": "Python 3"
    },
    "language_info": {
      "name": "python"
    }
  },
  "cells": [
    {
      "cell_type": "markdown",
      "metadata": {
        "id": "view-in-github",
        "colab_type": "text"
      },
      "source": [
        "<a href=\"https://colab.research.google.com/github/lferodrigues/Metrado-CC-UFJF/blob/main/curso_de_numpy.ipynb\" target=\"_parent\"><img src=\"https://colab.research.google.com/assets/colab-badge.svg\" alt=\"Open In Colab\"/></a>"
      ]
    },
    {
      "cell_type": "markdown",
      "source": [
        "**Curso Numpy**"
      ],
      "metadata": {
        "id": "bHxuTCfnarbC"
      }
    },
    {
      "cell_type": "markdown",
      "source": [
        "importando o numpy"
      ],
      "metadata": {
        "id": "lrIhYNNdbD62"
      }
    },
    {
      "cell_type": "code",
      "source": [
        "pip install numpy==1.25.2"
      ],
      "metadata": {
        "colab": {
          "base_uri": "https://localhost:8080/",
          "height": 359
        },
        "id": "_t1-CtQYbQec",
        "outputId": "487e7dc7-d8e7-4c22-9a7d-b69d08044389"
      },
      "execution_count": null,
      "outputs": [
        {
          "output_type": "stream",
          "name": "stdout",
          "text": [
            "Collecting numpy==1.25.2\n",
            "  Downloading numpy-1.25.2-cp311-cp311-manylinux_2_17_x86_64.manylinux2014_x86_64.whl.metadata (5.6 kB)\n",
            "Downloading numpy-1.25.2-cp311-cp311-manylinux_2_17_x86_64.manylinux2014_x86_64.whl (18.2 MB)\n",
            "\u001b[2K   \u001b[90m━━━━━━━━━━━━━━━━━━━━━━━━━━━━━━━━━━━━━━━━\u001b[0m \u001b[32m18.2/18.2 MB\u001b[0m \u001b[31m58.7 MB/s\u001b[0m eta \u001b[36m0:00:00\u001b[0m\n",
            "\u001b[?25hInstalling collected packages: numpy\n",
            "  Attempting uninstall: numpy\n",
            "    Found existing installation: numpy 2.0.2\n",
            "    Uninstalling numpy-2.0.2:\n",
            "      Successfully uninstalled numpy-2.0.2\n",
            "\u001b[31mERROR: pip's dependency resolver does not currently take into account all the packages that are installed. This behaviour is the source of the following dependency conflicts.\n",
            "tensorflow 2.18.0 requires numpy<2.1.0,>=1.26.0, but you have numpy 1.25.2 which is incompatible.\n",
            "blosc2 3.2.0 requires numpy>=1.26, but you have numpy 1.25.2 which is incompatible.\u001b[0m\u001b[31m\n",
            "\u001b[0mSuccessfully installed numpy-1.25.2\n"
          ]
        },
        {
          "output_type": "display_data",
          "data": {
            "application/vnd.colab-display-data+json": {
              "pip_warning": {
                "packages": [
                  "numpy"
                ]
              },
              "id": "304263a543e443acad082969d176ae28"
            }
          },
          "metadata": {}
        }
      ]
    },
    {
      "cell_type": "code",
      "source": [
        "import numpy as np"
      ],
      "metadata": {
        "id": "Yfzi2Gnba6SC"
      },
      "execution_count": null,
      "outputs": []
    },
    {
      "cell_type": "code",
      "source": [
        "np.__version__"
      ],
      "metadata": {
        "colab": {
          "base_uri": "https://localhost:8080/",
          "height": 35
        },
        "id": "H5mDi07IbH6b",
        "outputId": "a9f59f4f-af42-401a-9d4e-e2bef4c81e88"
      },
      "execution_count": null,
      "outputs": [
        {
          "output_type": "execute_result",
          "data": {
            "text/plain": [
              "'1.25.2'"
            ],
            "application/vnd.google.colaboratory.intrinsic+json": {
              "type": "string"
            }
          },
          "metadata": {},
          "execution_count": 2
        }
      ]
    },
    {
      "cell_type": "markdown",
      "source": [
        "**Numpy x listas**\n"
      ],
      "metadata": {
        "id": "unD3oul8boIK"
      }
    },
    {
      "cell_type": "markdown",
      "source": [
        "Tamanho fixo\n"
      ],
      "metadata": {
        "id": "50V_MVvzb4lD"
      }
    },
    {
      "cell_type": "code",
      "source": [
        "list_a = [1,2,3,4]"
      ],
      "metadata": {
        "id": "7Hu6pQeQb9W0"
      },
      "execution_count": null,
      "outputs": []
    },
    {
      "cell_type": "code",
      "source": [
        "type(list_a)"
      ],
      "metadata": {
        "colab": {
          "base_uri": "https://localhost:8080/"
        },
        "id": "Y4cvsndQcJAB",
        "outputId": "570ed909-8cc7-492f-c65d-9ad74ba53e84"
      },
      "execution_count": null,
      "outputs": [
        {
          "output_type": "execute_result",
          "data": {
            "text/plain": [
              "list"
            ]
          },
          "metadata": {},
          "execution_count": 4
        }
      ]
    },
    {
      "cell_type": "code",
      "source": [
        "print(id(list_a))"
      ],
      "metadata": {
        "colab": {
          "base_uri": "https://localhost:8080/"
        },
        "id": "U_Mg_6w5cOnv",
        "outputId": "f018bd6f-721a-49ec-bc94-f84c42a93d4f"
      },
      "execution_count": null,
      "outputs": [
        {
          "output_type": "stream",
          "name": "stdout",
          "text": [
            "136244405748032\n"
          ]
        }
      ]
    },
    {
      "cell_type": "markdown",
      "source": [
        "Adcionando novo elemento na lista\n",
        "    "
      ],
      "metadata": {
        "id": "KEM8uJcQccDz"
      }
    },
    {
      "cell_type": "code",
      "source": [
        "list_a.append(5)\n",
        "print(list_a)\n",
        "print(id(list_a))"
      ],
      "metadata": {
        "colab": {
          "base_uri": "https://localhost:8080/"
        },
        "id": "m8qVgCyUcWgP",
        "outputId": "4f2f51a4-1425-4aa9-fb1b-4a455d36f9fd"
      },
      "execution_count": null,
      "outputs": [
        {
          "output_type": "stream",
          "name": "stdout",
          "text": [
            "[1, 2, 3, 4, 5, 5]\n",
            "136244405748032\n"
          ]
        }
      ]
    },
    {
      "cell_type": "markdown",
      "source": [
        "criando uma variavel numpy\n"
      ],
      "metadata": {
        "id": "-Qz14IMJdBgO"
      }
    },
    {
      "cell_type": "code",
      "source": [
        "array_a=np.array([1,2,3,4])"
      ],
      "metadata": {
        "id": "h0HnU2fcdF27"
      },
      "execution_count": null,
      "outputs": []
    },
    {
      "cell_type": "code",
      "source": [
        "type(array_a)"
      ],
      "metadata": {
        "colab": {
          "base_uri": "https://localhost:8080/"
        },
        "id": "Xva8U0kRdRSg",
        "outputId": "0ab0a2da-5c51-41b2-e219-0ab8262591e9"
      },
      "execution_count": null,
      "outputs": [
        {
          "output_type": "execute_result",
          "data": {
            "text/plain": [
              "numpy.ndarray"
            ]
          },
          "metadata": {},
          "execution_count": 9
        }
      ]
    },
    {
      "cell_type": "code",
      "source": [
        "print(id(array_a))"
      ],
      "metadata": {
        "colab": {
          "base_uri": "https://localhost:8080/"
        },
        "id": "zyRP-nDMdc-w",
        "outputId": "0c7d2eab-c202-49b6-a450-c655874c825e"
      },
      "execution_count": null,
      "outputs": [
        {
          "output_type": "stream",
          "name": "stdout",
          "text": [
            "136244401973712\n"
          ]
        }
      ]
    },
    {
      "cell_type": "markdown",
      "source": [
        "inserindo elemento no final da lista pelo numpy\n"
      ],
      "metadata": {
        "id": "aJFz412Xdk0S"
      }
    },
    {
      "cell_type": "code",
      "source": [
        "array_a = np.append(array_a,[5])\n",
        "print(array_a)\n",
        "print(id(array_a))"
      ],
      "metadata": {
        "colab": {
          "base_uri": "https://localhost:8080/"
        },
        "id": "FIDRCTs2dqIZ",
        "outputId": "0eeb138d-1b19-47ee-c764-1294c5d6149a"
      },
      "execution_count": null,
      "outputs": [
        {
          "output_type": "stream",
          "name": "stdout",
          "text": [
            "[1 2 3 4 5]\n",
            "136244402348624\n"
          ]
        }
      ]
    },
    {
      "cell_type": "markdown",
      "source": [
        "**Homogênio**"
      ],
      "metadata": {
        "id": "jyBEEomHe8tv"
      }
    },
    {
      "cell_type": "code",
      "source": [
        "list_a = [1,2.4,'a',True,5]\n",
        "print(list_a)"
      ],
      "metadata": {
        "id": "MLAzdxnrfHDo"
      },
      "execution_count": null,
      "outputs": []
    },
    {
      "cell_type": "code",
      "source": [
        "type(list_a)"
      ],
      "metadata": {
        "colab": {
          "base_uri": "https://localhost:8080/"
        },
        "id": "ubQm2saFgnoE",
        "outputId": "7d0c8f50-9922-4679-bb51-bca715a36263"
      },
      "execution_count": 13,
      "outputs": [
        {
          "output_type": "execute_result",
          "data": {
            "text/plain": [
              "list"
            ]
          },
          "metadata": {},
          "execution_count": 13
        }
      ]
    },
    {
      "cell_type": "markdown",
      "source": [
        "criando uma estrutura de repetição para percorrer a lista"
      ],
      "metadata": {
        "id": "ahFmTDg7hBP5"
      }
    },
    {
      "cell_type": "code",
      "source": [
        "for i in list_a:\n",
        "  #print(i)\n",
        "  print(type(i))"
      ],
      "metadata": {
        "colab": {
          "base_uri": "https://localhost:8080/"
        },
        "id": "9Z0kn3x3guQW",
        "outputId": "4de3b7b4-45e3-4d27-fc14-d72d52400869"
      },
      "execution_count": 14,
      "outputs": [
        {
          "output_type": "stream",
          "name": "stdout",
          "text": [
            "<class 'int'>\n",
            "<class 'float'>\n",
            "<class 'str'>\n",
            "<class 'bool'>\n",
            "<class 'int'>\n"
          ]
        }
      ]
    },
    {
      "cell_type": "markdown",
      "source": [
        "No numpy.\n",
        "Para manter a homogeniedade dos dados, todos os elementos são transofrmados no modelo mais abrangente, que no caso é string\n"
      ],
      "metadata": {
        "id": "Ww1PWEULhyG6"
      }
    },
    {
      "cell_type": "code",
      "source": [
        "array_a = np.array(list_a)\n",
        "type(array_a)"
      ],
      "metadata": {
        "colab": {
          "base_uri": "https://localhost:8080/"
        },
        "id": "0E-3EnBKhNpJ",
        "outputId": "d03eacd5-ec7b-4f67-a383-2086d9feab36"
      },
      "execution_count": 15,
      "outputs": [
        {
          "output_type": "execute_result",
          "data": {
            "text/plain": [
              "numpy.ndarray"
            ]
          },
          "metadata": {},
          "execution_count": 15
        }
      ]
    },
    {
      "cell_type": "code",
      "source": [
        "print(array_a)"
      ],
      "metadata": {
        "colab": {
          "base_uri": "https://localhost:8080/"
        },
        "id": "I_dU_I29hc6x",
        "outputId": "a148b793-c138-4ca3-e596-1e67fba9455d"
      },
      "execution_count": 16,
      "outputs": [
        {
          "output_type": "stream",
          "name": "stdout",
          "text": [
            "['1' '2.4' 'a' 'True' '5']\n"
          ]
        }
      ]
    },
    {
      "cell_type": "code",
      "source": [
        "for i in array_a:\n",
        "  print(type(i))"
      ],
      "metadata": {
        "colab": {
          "base_uri": "https://localhost:8080/"
        },
        "id": "XgGXeOzYhl1H",
        "outputId": "a3925011-35cb-4662-a832-ccd3866f5b37"
      },
      "execution_count": 17,
      "outputs": [
        {
          "output_type": "stream",
          "name": "stdout",
          "text": [
            "<class 'numpy.str_'>\n",
            "<class 'numpy.str_'>\n",
            "<class 'numpy.str_'>\n",
            "<class 'numpy.str_'>\n",
            "<class 'numpy.str_'>\n"
          ]
        }
      ]
    },
    {
      "cell_type": "code",
      "source": [
        "array_a.dtype"
      ],
      "metadata": {
        "colab": {
          "base_uri": "https://localhost:8080/"
        },
        "id": "3co3J138iAoF",
        "outputId": "1f6fe752-7378-4f9c-a9f0-9c212a44d4bf"
      },
      "execution_count": 18,
      "outputs": [
        {
          "output_type": "execute_result",
          "data": {
            "text/plain": [
              "dtype('<U32')"
            ]
          },
          "metadata": {},
          "execution_count": 18
        }
      ]
    },
    {
      "cell_type": "markdown",
      "source": [
        "![dtype-hierarchy.png](data:image/png;base64,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)"
      ],
      "metadata": {
        "id": "nVRnUQovjFIG"
      }
    },
    {
      "cell_type": "markdown",
      "source": [
        "fonte: [http://numpy.org/doc/stable/reference/arrays.scalars.html#scalars](http://numpy.org/doc/stable/reference/arrays.scalars.html#scalars)"
      ],
      "metadata": {
        "id": "-60uUQYejQFj"
      }
    },
    {
      "cell_type": "markdown",
      "source": [
        "Alguns data types têm aliases(\"apelidos\")\n"
      ],
      "metadata": {
        "id": "hEYHf4Yjqtqw"
      }
    }
  ]
}