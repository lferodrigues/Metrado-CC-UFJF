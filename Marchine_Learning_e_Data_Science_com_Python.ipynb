{
  "nbformat": 4,
  "nbformat_minor": 0,
  "metadata": {
    "colab": {
      "provenance": [],
      "authorship_tag": "ABX9TyPbk3RYFo/c++6u0LWJKzu/",
      "include_colab_link": true
    },
    "kernelspec": {
      "name": "python3",
      "display_name": "Python 3"
    },
    "language_info": {
      "name": "python"
    }
  },
  "cells": [
    {
      "cell_type": "markdown",
      "metadata": {
        "id": "view-in-github",
        "colab_type": "text"
      },
      "source": [
        "<a href=\"https://colab.research.google.com/github/lferodrigues/Metrado-CC-UFJF/blob/main/Marchine_Learning_e_Data_Science_com_Python.ipynb\" target=\"_parent\"><img src=\"https://colab.research.google.com/assets/colab-badge.svg\" alt=\"Open In Colab\"/></a>"
      ]
    },
    {
      "cell_type": "markdown",
      "source": [
        "**Marchine Learning e Data Science com Python**"
      ],
      "metadata": {
        "id": "R9yEVRz9p4T1"
      }
    },
    {
      "cell_type": "markdown",
      "source": [
        "Importação das bibliotecas básicas"
      ],
      "metadata": {
        "id": "3TY9C096qHqe"
      }
    },
    {
      "cell_type": "code",
      "source": [
        "pip install plotly --upgrade\n"
      ],
      "metadata": {
        "id": "m3-TeJoSqEH-"
      },
      "execution_count": null,
      "outputs": []
    },
    {
      "cell_type": "markdown",
      "source": [
        "Plotly é uma biblioteca que gera graficos avançados"
      ],
      "metadata": {
        "id": "Rg6MypzHrI6B"
      }
    },
    {
      "cell_type": "code",
      "source": [
        "import pandas as pd\n",
        "'Biblioteca que libera o uso de arquivo CSV'\n",
        "import numpy as np\n",
        "'Biblioteca matematica do python'\n",
        "import seaborn as sns\n",
        "'Biblioteca para visualização de graficos'\n",
        "import matplotlib.pyplot as plt\n",
        "'Biblioteca para visualização de graficos'\n",
        "import plotly.express as px"
      ],
      "metadata": {
        "id": "0DIP5bFfrRIi"
      },
      "execution_count": 2,
      "outputs": []
    },
    {
      "cell_type": "markdown",
      "source": [
        "**Base de dados de credito**\n",
        "\n",
        "\n",
        "Fonte: https://www.kaggle.com/laotse/credit-risk-dataset"
      ],
      "metadata": {
        "id": "7MEJBj7Vsgdf"
      }
    },
    {
      "cell_type": "code",
      "source": [],
      "metadata": {
        "id": "NkRaBnjrs3h4"
      },
      "execution_count": null,
      "outputs": []
    }
  ]
}