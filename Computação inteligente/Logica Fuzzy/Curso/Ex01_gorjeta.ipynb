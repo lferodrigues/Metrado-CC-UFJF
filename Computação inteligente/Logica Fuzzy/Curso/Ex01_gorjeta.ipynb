{
  "nbformat": 4,
  "nbformat_minor": 0,
  "metadata": {
    "colab": {
      "provenance": [],
      "authorship_tag": "ABX9TyMRGj+lC0ePx+k0cAsLe4OI",
      "include_colab_link": true
    },
    "kernelspec": {
      "name": "python3",
      "display_name": "Python 3"
    },
    "language_info": {
      "name": "python"
    }
  },
  "cells": [
    {
      "cell_type": "markdown",
      "metadata": {
        "id": "view-in-github",
        "colab_type": "text"
      },
      "source": [
        "<a href=\"https://colab.research.google.com/github/lferodrigues/Metrado-CC-UFJF/blob/main/Ex01_gorjeta.ipynb\" target=\"_parent\"><img src=\"https://colab.research.google.com/assets/colab-badge.svg\" alt=\"Open In Colab\"/></a>"
      ]
    },
    {
      "cell_type": "markdown",
      "source": [
        "**Logica Fuzzy com python: O guia para iniciantes: Exemplo das gorjetas**"
      ],
      "metadata": {
        "id": "QOYkZYtvfXSh"
      }
    },
    {
      "cell_type": "markdown",
      "source": [
        "**Antecendentes (entradas)**"
      ],
      "metadata": {
        "id": "lair4SUbfqAn"
      }
    },
    {
      "cell_type": "markdown",
      "source": [
        "Serviço: que nota voce daria para o serviço, em uma escala de 0 a 10?\n",
        "\n",
        "      *  Ruim, aceitavel, otimo\n",
        "Qualidade da comida: quao boa estava a comida, em uma escala de 0 a 10?\n",
        "  \n",
        "      *   Ruim,Boa,Saborosa\n",
        "\n",
        "**Consequentes(saidas)**\n",
        "Gorjetas: quanta gorgeta você daria, entre 0% a 20%?\n",
        "\n",
        "    * baixa,média,alta\n",
        "\n",
        "Regras\n",
        "\n",
        "\n",
        "*   Se a qualidade da comida for ruim ou serviço for ruim entao a gorjeta sera baixa\n",
        "*   Se o serviço for médio então a gorjeta será média\n",
        "\n",
        "*   Se o serviço for bom e a qualidade da comida for saborosa entao a gorjeta sera alta\n",
        "\n",
        "\n",
        "\n",
        "\n",
        "\n",
        "\n",
        "\n"
      ],
      "metadata": {
        "id": "tifoXRs0f0IG"
      }
    },
    {
      "cell_type": "markdown",
      "source": [
        "**Instalação das bibliotecas**"
      ],
      "metadata": {
        "id": "KY_hzpNRo1c-"
      }
    },
    {
      "cell_type": "code",
      "execution_count": null,
      "metadata": {
        "id": "PgiS4cvAe-A4"
      },
      "outputs": [],
      "source": [
        "pip install scikit-fuzzy"
      ]
    },
    {
      "cell_type": "code",
      "source": [
        "import numpy as np\n",
        "import skfuzzy as fuzz\n",
        "from skfuzzy import control as ctrl"
      ],
      "metadata": {
        "id": "iJFtkdVWmOLg"
      },
      "execution_count": 2,
      "outputs": []
    },
    {
      "cell_type": "markdown",
      "source": [
        "**Antecedentes e consequentes**"
      ],
      "metadata": {
        "id": "q2bfJnd1pbXx"
      }
    },
    {
      "cell_type": "code",
      "source": [
        "qualidade = ctrl.Antecedent(np.arange(0,11,1),'qualidade')\n",
        "servico = ctrl.Antecedent(np.arange(0,11,1),'servico')"
      ],
      "metadata": {
        "id": "lh47wOSJplHL"
      },
      "execution_count": 5,
      "outputs": []
    },
    {
      "cell_type": "code",
      "source": [
        "gorjeta = ctrl.Consequent(np.arange(0,21,1),'gorjeta')"
      ],
      "metadata": {
        "id": "d_DRrH_brUGU"
      },
      "execution_count": 8,
      "outputs": []
    },
    {
      "cell_type": "markdown",
      "source": [
        "**Membership functions**"
      ],
      "metadata": {
        "id": "UVEbB6X_sv8r"
      }
    },
    {
      "cell_type": "code",
      "source": [],
      "metadata": {
        "id": "WNMrfM0Xs6VT"
      },
      "execution_count": null,
      "outputs": []
    }
  ]
}